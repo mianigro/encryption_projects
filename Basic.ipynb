{
 "cells": [
  {
   "cell_type": "markdown",
   "id": "53dc7335",
   "metadata": {},
   "source": [
    "# Basic Encryption Method\n",
    "***\n",
    "## Using a key to encrypt and decrypt a string\n",
    "\n",
    "### Steps\n",
    "1. Determine the dictionary to convert the string into integers\n",
    "2. Determine the secret encryption key\n",
    "3. Set the message to encrypt\n",
    "4. Encrypt the message\n",
    "5. Decrypt the message"
   ]
  },
  {
   "cell_type": "code",
   "execution_count": 1,
   "id": "7a157ee1",
   "metadata": {},
   "outputs": [],
   "source": [
    "# Encoding dictionary to convert the characters into integers\n",
    "str_dict = {'a': \"101\", 'b': \"102\", 'c': \"103\", 'd': \"104\", 'e': \"105\", 'f': \"106\", 'g': \"107\", 'h': \"108\", \n",
    "            'i': \"109\", 'j': \"110\", 'k': \"111\", 'l': \"112\", 'm': \"113\", 'n': \"114\", 'o': \"115\", 'p': \"116\", \n",
    "            'q': \"117\", 'r': \"118\", 's': \"119\", 't': \"120\", 'u': \"121\", 'v': \"122\", 'w': \"123\", 'x': \"124\", \n",
    "            'y': \"125\", 'z': \"126\", \" \": \"127\", 'A': \"201\", 'B': \"202\", 'C': \"203\", 'D': \"204\", 'E': \"205\", \n",
    "            'F': \"206\", 'G': \"207\", 'H': \"208\", 'I': \"209\", 'J': \"210\", 'K': \"211\", 'L': \"212\", 'M': \"213\", \n",
    "            'N': \"214\", 'O': \"215\", 'P': \"216\", 'Q': \"217\", 'R': \"218\", 'S': \"219\", 'T': \"220\", 'U': \"221\", \n",
    "            'V': \"222\", 'W': \"223\", 'X': \"224\", 'Y': \"225\", 'Z': \"226\", \",\": \"301\", \".\": \"302\"}"
   ]
  },
  {
   "cell_type": "code",
   "execution_count": 2,
   "id": "c775207c",
   "metadata": {},
   "outputs": [],
   "source": [
    "# Set the secret key\n",
    "secret_key = 13"
   ]
  },
  {
   "cell_type": "code",
   "execution_count": 4,
   "id": "5289bf77",
   "metadata": {},
   "outputs": [],
   "source": [
    "# Determine message to encryot\n",
    "string_in = \"This is a test message to encrypt.\""
   ]
  },
  {
   "cell_type": "code",
   "execution_count": 6,
   "id": "77e88b4c",
   "metadata": {},
   "outputs": [
    {
     "name": "stdout",
     "output_type": "stream",
     "text": [
      "220108109119127109119127101127120105119120127113105119119101107105127120115127105114103118125116120302\n",
      "2861405418548652418548652314652561366548561652470366548548314392366652561496652366483340535626509563926\n"
     ]
    }
   ],
   "source": [
    "# Encrypt a string\n",
    "string_as_num = \"\".join((str_dict[string_in[n]] for n in range(0,len(string_in))))\n",
    "\n",
    "print(string_as_num)\n",
    "\n",
    "encrypted_str = int(string_as_num) * secret_key\n",
    "print(encrypted_str)"
   ]
  },
  {
   "cell_type": "code",
   "execution_count": 7,
   "id": "95b1d2da",
   "metadata": {},
   "outputs": [
    {
     "name": "stdout",
     "output_type": "stream",
     "text": [
      "This is a test message to encrypt.\n"
     ]
    }
   ],
   "source": [
    "# Decrypt a string\n",
    "string_as_num = str(int(encrypted_str // secret_key))\n",
    "start_index = 0\n",
    "end_index = 3\n",
    "string_out = \"\"\n",
    "\n",
    "for _ in range(0, len(string_as_num) // 3):\n",
    "    string_out += \"\".join([k for k,v in str_dict.items() if v == string_as_num[start_index:end_index]])\n",
    "    start_index += 3\n",
    "    end_index += 3\n",
    "\n",
    "print(string_out)"
   ]
  },
  {
   "cell_type": "code",
   "execution_count": null,
   "id": "d769bb67",
   "metadata": {},
   "outputs": [],
   "source": []
  }
 ],
 "metadata": {
  "kernelspec": {
   "display_name": "Python 3 (ipykernel)",
   "language": "python",
   "name": "python3"
  },
  "language_info": {
   "codemirror_mode": {
    "name": "ipython",
    "version": 3
   },
   "file_extension": ".py",
   "mimetype": "text/x-python",
   "name": "python",
   "nbconvert_exporter": "python",
   "pygments_lexer": "ipython3",
   "version": "3.10.4"
  }
 },
 "nbformat": 4,
 "nbformat_minor": 5
}
