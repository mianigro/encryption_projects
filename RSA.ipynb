{
 "cells": [
  {
   "cell_type": "markdown",
   "id": "47b4ae90-1c3d-423f-83db-98089b8fffb6",
   "metadata": {},
   "source": [
    "# RSA Encryption\n",
    "***\n",
    "## Sending information to your bank over a public channel using encruption\n",
    "\n",
    "### Steps\n",
    "1. The bank determines two secret prime numbers, p and q, these mulitply to be N, so $N = p \\times q$. N is a public key, p and q are bank secrets\n",
    "2. Find $\\phi(N) = (p-1) \\times (q-1)$\n",
    "3. Find d and e, d is a bank secret key and e is a public key, so:\n",
    "    - $K = e \\times d$\n",
    "    - $K mod \\phi(N) = 1$ \n",
    "    - $K = 1 mod \\phi(N) = e \\times d$\n",
    "5. K factors into d * e\n",
    "6. Bank distributes N and e as public keys, Bank keeps p, q, d, $\\phi(N)$ as secret keys\n",
    "7. Convert string into a list of numbers, each number is M\n",
    "8. Users encrypt each number, $Enc = M^e mod N$ and places each number into a list, the list is sent to the bank\n",
    "9. Bank decrypts each integer in the list message user $M = Enc^d mod N$, and then rebuilds the string \n",
    "10. Bank decodes the numbers back into characters"
   ]
  },
  {
   "cell_type": "markdown",
   "id": "3f17b434",
   "metadata": {},
   "source": [
    "## Functions"
   ]
  },
  {
   "cell_type": "markdown",
   "id": "229d7fcd-6382-4b75-8491-cd530d6978b4",
   "metadata": {},
   "source": [
    "#### Factorising a number\n",
    "The below script factorises a number and returns the first result it finds, it starts from the 2 (because 1 will go into any number) and do an itterative factor tree, up until the value of K. "
   ]
  },
  {
   "cell_type": "code",
   "execution_count": 2,
   "id": "64809a6b-af20-4795-98d7-921dbbdad3f6",
   "metadata": {},
   "outputs": [],
   "source": [
    "from random import randint\n",
    "\n",
    "def factor_script(k):\n",
    "    fact_list = []\n",
    "    found = False\n",
    "\n",
    "    for x in range(2, k):\n",
    "        if k % x == 0 and found == False:\n",
    "            fact_list.append((int(k/x),x))\n",
    "            found = True\n",
    "            \n",
    "        if found == True:\n",
    "            break\n",
    "    \n",
    "    return fact_list"
   ]
  },
  {
   "cell_type": "markdown",
   "id": "c7c8e9fe-fcf2-42fd-a2d1-b4033c356bd5",
   "metadata": {},
   "source": [
    "#### Finding K and then d and e\n",
    "\n",
    "Formula 1: $K mod \\phi(N) = 1$\n",
    "\n",
    "Formula 2: $K = 1 mod \\phi(N) = e \\times d$\n",
    "\n",
    "Using these formulae, K is found first and it the script checks if K can be factorised, if it can it is then factorised into d and e, if not it discards that value of K and intterates until it finds the next candidate."
   ]
  },
  {
   "cell_type": "code",
   "execution_count": 3,
   "id": "7a0fa05d-7540-4793-b95a-f42c8f3324ba",
   "metadata": {},
   "outputs": [],
   "source": [
    "def find_de_as_k(phi_pq, prime1, prime2, factor_script_func):\n",
    "    # Generate candidate list for k = d*e\n",
    "    de_list = []\n",
    "\n",
    "    # Set k as the maximum of prime1 or prime2\n",
    "    k = max(prime1, prime2)\n",
    "\n",
    "    # Loop through and increase k options by 1 every time, and check criteria for eligability\n",
    "    found_de = False\n",
    "    while found_de == False:\n",
    "\n",
    "        # Factorises K into d*e and returns it if it exists, returns an empty list if it can't be factorised\n",
    "        de = factor_script_func(k)\n",
    "\n",
    "        # Check that k * modphi(N) = 1 and that k has factors\n",
    "        if (k) % phi_pq == 1 and de != []:\n",
    "\n",
    "            # Select the first candidate for K and end the loop\n",
    "            de_list.append(de)\n",
    "            found_de = True\n",
    "\n",
    "        k += 1\n",
    "\n",
    "    # Return k as a list make up of (d, e)\n",
    "    return de_list"
   ]
  },
  {
   "cell_type": "markdown",
   "id": "7041cc59-a419-444e-bbdc-fe34e1dd2340",
   "metadata": {},
   "source": [
    "#### Encoding the String\n",
    "\n",
    "This script uses the attached dictionary to encode a string into specific integers, this allows the numbers to be then encrypted and decrypted."
   ]
  },
  {
   "cell_type": "code",
   "execution_count": 4,
   "id": "400ddcc0-8576-46ba-a4b9-9fe4d987bbcf",
   "metadata": {},
   "outputs": [],
   "source": [
    "# Encoding dictionary\n",
    "str_dict = {'a': \"1\", 'b': \"2\", 'c': \"3\", 'd': \"4\", 'e': \"5\", 'f': \"6\", 'g': \"7\", 'h': \"8\", 'i': \"9\", \n",
    "            'j': \"10\", 'k': \"11\", 'l': \"12\", 'm': \"13\", 'n': \"14\", 'o': \"15\", 'p': \"16\", 'q': \"17\", \n",
    "            'r': \"18\", 's': \"19\", 't': \"20\", 'u': \"21\", 'v': \"22\", 'w': \"23\", 'x': \"24\", 'y': \"25\", \n",
    "            'z': \"26\", ' ': \"27\"}\n",
    "\n",
    "\n",
    "# Encodes the string (M) and encrypts it with Enc = M^e mod N, where M is the message as an integer\n",
    "def encrypt_string(string_in, bank_code1,bank_code2):\n",
    "\n",
    "    string_as_num = [(int(str_dict[item])**bank_code1)%bank_code2 for item in string_in]\n",
    "\n",
    "    return string_as_num\n",
    "\n",
    "\n",
    "# Decrypt a list of encrypted characters and return the message M, M = Enc^d mod N\n",
    "def decrypt_string(encrypted_str, bank_secret, bank_code2):\n",
    "\n",
    "    # Decrypts the message into the encoded list\n",
    "    decrypted_list = [(item**bank_secret)%bank_code2 for item in encrypted_str]    \n",
    "    \n",
    "    # Matches the key with the letter and appends it into a string\n",
    "    string_out = \"\"\n",
    "    for char in decrypted_list:\n",
    "        string_out += \"\".join([k for k,v in str_dict.items() if v == str(char)][0])\n",
    "\n",
    "\n",
    "    return string_out"
   ]
  },
  {
   "cell_type": "markdown",
   "id": "efbb1ad4-8fde-405e-b182-7134a8542e2f",
   "metadata": {},
   "source": [
    "#### Generate two prime numbers\n",
    "\n",
    "The below script using the fact that the only number that devides a prime number is itself and 1 with no remainders to itterate through a range and return a list of prime numbers. The script then randomly selects two numbers ensuring the seccond number is bigger than the first one to select two prime numbers and return them."
   ]
  },
  {
   "cell_type": "code",
   "execution_count": 5,
   "id": "f111d713-c7d1-479f-82a0-0843272c9472",
   "metadata": {},
   "outputs": [],
   "source": [
    "# Generate two prime numbers\n",
    "def gen_prime(start, stop):\n",
    "    mod_list = []\n",
    "\n",
    "    # Generate list of prime numbers\n",
    "    for num in range(start, stop):\n",
    "        if num > 1:\n",
    "            for i in range(2, num):\n",
    "                if (num % i) == 0:\n",
    "                    break\n",
    "            else:\n",
    "                mod_list.append(num)\n",
    "\n",
    "    # Randomly pick a number to pick a number from the list\n",
    "    x = randint(1,len(mod_list)-1)\n",
    "    y = randint(x,len(mod_list)-1)\n",
    "\n",
    "    return mod_list[x], mod_list[y]"
   ]
  },
  {
   "cell_type": "markdown",
   "id": "499cf637-f3f7-4c6d-8c43-71725a63275d",
   "metadata": {},
   "source": [
    "### Main Script\n",
    "\n",
    "This script runs the encryption algorithm and is a type of mock interface that shows it all works in motion."
   ]
  },
  {
   "cell_type": "code",
   "execution_count": 6,
   "id": "7331bf3d-af91-412c-bc66-51d33e6fb532",
   "metadata": {},
   "outputs": [],
   "source": [
    "def main():\n",
    "    # Banks secret keys - Two primes that make up N\n",
    "    prime1, prime2 = gen_prime(3,200)\n",
    "    print(f\"Two secret primes that make up N = p*q = {prime1} * {prime2} = {prime1 * prime2} where N is a public key and p and q are bank secrets.\\n\")\n",
    "\n",
    "    # Find phi(N) = phi(pq)\n",
    "    phi_pq = (prime1-1) * (prime2-1)\n",
    "    print(f\"Phi(N) = (p - 1) * (q - 1)= {phi_pq}\\n\")\n",
    "\n",
    "    # Find K\n",
    "    # K = 1mod(fi(N))- K has to be able to be factored\n",
    "    de = find_de_as_k(phi_pq, prime1, prime2,factor_script)[0]\n",
    "    d, e = de[0]\n",
    "    print(f\"K = 1mod(Phi(N)) = d*e = {d} * {e}.\\n\")\n",
    "    print(f\"So, d = {d} and e = {e}. Then, 'd' becomes the banks secret key and 'e' is the other public key.\\n\")\n",
    "\n",
    "    # Banks other secret key is d\n",
    "    bank_secret = d\n",
    "\n",
    "    # Bank public keys which are e and N\n",
    "    bank_code1 = e\n",
    "    bank_code2 = prime1 * prime2\n",
    "    \n",
    "    print(f\"So, we have built the banks two public keys, which are {bank_code1} and {bank_code2}, these are used by senders to encrypt data.\\n\")\n",
    "    print(f\"As a result of this one way modular maths, it is essentially impossible to reverse the encryption without the private keys.\\n\")\n",
    "\n",
    "    # Raw message\n",
    "    message_raw = \"this is a test\"\n",
    "\n",
    "    # Convert message into list and then encrypts each letter.\n",
    "    encr_list = encrypt_string(message_raw, bank_code1, bank_code2)\n",
    "    print(f\"Encrypted message: {encr_list}\\n\")\n",
    "\n",
    "    # Decrypt message\n",
    "    print(f\"Decrypted message: {decrypt_string(encr_list, bank_secret, bank_code2)}\")"
   ]
  },
  {
   "cell_type": "code",
   "execution_count": 7,
   "id": "1c9cd1fe-2013-4be9-9420-f93db434c5a4",
   "metadata": {},
   "outputs": [
    {
     "name": "stdout",
     "output_type": "stream",
     "text": [
      "Two secret primes that make up N = p*q = 137 * 149 = 20413 where N is a public key and p and q are bank secrets.\n",
      "\n",
      "Phi(N) = (p - 1) * (q - 1)= 20128\n",
      "\n",
      "K = 1mod(Phi(N)) = d*e = 13419 * 3.\n",
      "\n",
      "So, d = 13419 and e = 3. Then, 'd' becomes the banks secret key and 'e' is the other public key.\n",
      "\n",
      "So, we have built the banks two public keys, which are 3 and 20413, these are used by senders to encrypt data.\n",
      "\n",
      "As a result of this one way modular maths, it is essentially impossible to reverse the encryption without the private keys.\n",
      "\n",
      "Encrypted message: [8000, 512, 729, 6859, 19683, 729, 6859, 19683, 1, 19683, 8000, 125, 6859, 8000]\n",
      "\n",
      "Decrypted message: this is a test\n"
     ]
    }
   ],
   "source": [
    "main()"
   ]
  },
  {
   "cell_type": "code",
   "execution_count": null,
   "id": "6d23e95b",
   "metadata": {},
   "outputs": [],
   "source": []
  }
 ],
 "metadata": {
  "kernelspec": {
   "display_name": "Python 3 (ipykernel)",
   "language": "python",
   "name": "python3"
  },
  "language_info": {
   "codemirror_mode": {
    "name": "ipython",
    "version": 3
   },
   "file_extension": ".py",
   "mimetype": "text/x-python",
   "name": "python",
   "nbconvert_exporter": "python",
   "pygments_lexer": "ipython3",
   "version": "3.10.4"
  },
  "toc-autonumbering": false,
  "toc-showcode": false,
  "toc-showmarkdowntxt": false
 },
 "nbformat": 4,
 "nbformat_minor": 5
}
