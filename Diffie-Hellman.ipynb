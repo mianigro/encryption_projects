{
 "cells": [
  {
   "cell_type": "markdown",
   "id": "ae9e95b2",
   "metadata": {},
   "source": [
    "# Diffie–Hellman key exchange\n",
    "\n",
    "***\n",
    "\n",
    "## Asymetrical encryption over a public network\n",
    "\n",
    "### Steps\n",
    "1. Each party determines their own secret key.\n",
    "2. The modulo (p) and base (g) are determined, these need to be prime numbers, these are distributed to each user.\n",
    "3. Each user determines their public key (r) which is determined by:\n",
    "    - User 1 with public key of a - $r_{1} = g^a  mod p$\n",
    "    - User 2 with public key of b - $r_{2} = g^b  mod p$\n",
    "4. Each user shares their public key with the other user\n",
    "5. The encryption key (k) is determined by:\n",
    "    - User 1 with public key a - $k = r_{2}^a mod p$\n",
    "    - User 2 with public key b - $k = r_{1}^b mod p$\n",
    "6. The key (k) is used to encrypt the string by converting the string to a number and multiplying it by k"
   ]
  },
  {
   "cell_type": "markdown",
   "id": "bda78e59",
   "metadata": {},
   "source": [
    "## Functions"
   ]
  },
  {
   "cell_type": "markdown",
   "id": "23ea36a3",
   "metadata": {},
   "source": [
    "#### Generate a public key\n",
    "Each user determines their public key (r) which is determined by:\n",
    "- User 1 with public key of a - $r_{1} = g^a  mod p$\n",
    "- User 2 with public key of b - $r_{2} = g^b  mod p$"
   ]
  },
  {
   "cell_type": "code",
   "execution_count": 1,
   "id": "051f77e9-6115-4ba6-8d87-73e7d7d1a32d",
   "metadata": {},
   "outputs": [],
   "source": [
    "def generate_public_key(a, p, g):\n",
    "    \n",
    "    r = (g**a)%p\n",
    "\n",
    "    return r"
   ]
  },
  {
   "cell_type": "markdown",
   "id": "b44e8c20",
   "metadata": {},
   "source": [
    "#### Decoding a publick key into the encryption key\n",
    "\n",
    "The encryption key (k) is determined by:\n",
    "- User 1 with public key a - $k = r_{2}^a mod p$\n",
    "- User 2 with public key b - $k = r_{1}^b mod p$"
   ]
  },
  {
   "cell_type": "code",
   "execution_count": 2,
   "id": "bc9653d5-f8bc-4804-95e7-1550c25e28ec",
   "metadata": {},
   "outputs": [],
   "source": [
    "def decode_public_key(r_other, a, p):\n",
    "    \n",
    "    key = (r_other**a)%p\n",
    "    \n",
    "    return key"
   ]
  },
  {
   "cell_type": "markdown",
   "id": "3154cd53",
   "metadata": {},
   "source": [
    "#### Encrypt the string\n",
    "\n",
    "Converting a string into a number and then applying the encryption key to encrypt it."
   ]
  },
  {
   "cell_type": "code",
   "execution_count": 3,
   "id": "ee32d518-e143-4629-91ff-618c7a056668",
   "metadata": {},
   "outputs": [],
   "source": [
    "import math\n",
    "\n",
    "# Encoding dictionary\n",
    "str_dict = {'a': \"101\", 'b': \"102\", 'c': \"103\", 'd': \"104\", 'e': \"105\", 'f': \"106\", 'g': \"107\", 'h': \"108\", \n",
    "            'i': \"109\", 'j': \"110\", 'k': \"111\", 'l': \"112\", 'm': \"113\", 'n': \"114\", 'o': \"115\", 'p': \"116\", \n",
    "            'q': \"117\", 'r': \"118\", 's': \"119\", 't': \"120\", 'u': \"121\", 'v': \"122\", 'w': \"123\", 'x': \"124\", \n",
    "            'y': \"125\", 'z': \"126\", \" \": \"127\", 'A': \"201\", 'B': \"202\", 'C': \"203\", 'D': \"204\", 'E': \"205\", \n",
    "            'F': \"206\", 'G': \"207\", 'H': \"208\", 'I': \"209\", 'J': \"210\", 'K': \"211\", 'L': \"212\", 'M': \"213\", \n",
    "            'N': \"214\", 'O': \"215\", 'P': \"216\", 'Q': \"217\", 'R': \"218\", 'S': \"219\", 'T': \"220\", 'U': \"221\", \n",
    "            'V': \"222\", 'W': \"223\", 'X': \"224\", 'Y': \"225\", 'Z': \"226\", \",\": \"301\", \".\": \"302\"}\n",
    "\n",
    "\n",
    "# Encrypt a string\n",
    "def encrypt_string(string_in, secret_key):\n",
    "\n",
    "    string_as_num = \"\".join((str_dict[string_in[n]] for n in range(0,len(string_in))))\n",
    "\n",
    "    return int(string_as_num) * secret_key\n",
    "\n",
    "\n",
    "# Decrypt a string\n",
    "def decrypt_string(encrypted_str, secret_key):\n",
    "    string_as_num = str(int(encrypted_str // secret_key))\n",
    "    start_index = 0\n",
    "    end_index = 3\n",
    "    string_out = \"\"\n",
    "\n",
    "    for _ in range(0, len(string_as_num) // 3):\n",
    "        string_out += \"\".join([k for k,v in str_dict.items() if v == string_as_num[start_index:end_index]])\n",
    "        start_index += 3\n",
    "        end_index += 3\n",
    "\n",
    "    return string_out"
   ]
  },
  {
   "cell_type": "markdown",
   "id": "b72c682f",
   "metadata": {},
   "source": [
    "#### Generate a prime\n",
    "Generate a random prime number over a specific range that is taken as an argument into the dunction."
   ]
  },
  {
   "cell_type": "code",
   "execution_count": 4,
   "id": "05a49432-43fc-468f-9d65-37528c202ed1",
   "metadata": {},
   "outputs": [],
   "source": [
    "from random import randint\n",
    "\n",
    "# Generate a prime number\n",
    "def gen_prime(start, stop):\n",
    "    mod_list = []\n",
    "\n",
    "    # Generate list of prime numbers\n",
    "    for num in range(start, stop):\n",
    "        if num > 1:\n",
    "            for i in range(2, num):\n",
    "                if (num % i) == 0:\n",
    "                    break\n",
    "            else:\n",
    "                mod_list.append(num)\n",
    "\n",
    "    # Randomly pick a number to pick a number from the list\n",
    "    x = randint(1,len(mod_list))\n",
    "\n",
    "    return mod_list[x]"
   ]
  },
  {
   "cell_type": "markdown",
   "id": "04d866a6",
   "metadata": {},
   "source": [
    "***\n",
    "## Running the script from a function"
   ]
  },
  {
   "cell_type": "code",
   "execution_count": 5,
   "id": "1e8c2685-5d81-4ef3-921c-88e014944dc5",
   "metadata": {},
   "outputs": [],
   "source": [
    "def main():\n",
    "    # Generate modulo and base\n",
    "    p = gen_prime(2000,6000) # Modulus\n",
    "    g = gen_prime(500, 1000) # Base\n",
    "    print(f\"The modulo is {p} and base is {g} and made public to all users.\\n\")\n",
    "\n",
    "\n",
    "    # User 1 - Set user 1's secret key and generate the public key based of it\n",
    "    a1 = gen_prime(1000, 3000) # Secret key\n",
    "    r1 = generate_public_key(a1, p, g) # Public key\n",
    "\n",
    "\n",
    "    # User 2 - Set user 2's secret key and generate the public key based of it\n",
    "    a2 = gen_prime(1000, 3000) # Secret key\n",
    "    r2 = generate_public_key(a2, p, g) # Public key\n",
    "\n",
    "    print(\"User 1 and User 2 determine their own secret key and use it to generate their public key, which they distribute to eachother.\\n\")\n",
    "    print(\"Using eachothers public key, the modulo and their own private key, each user generates the encryption key. These end up being the same as per the maths.\\n\")\n",
    "    \n",
    "    \n",
    "    # User 1 and USer 2 - Makes encryption key from the modulus, public key and own private key\n",
    "    key1 = decode_public_key(r2, a1, p)\n",
    "    key2 = decode_public_key(r1, a2, p)\n",
    "\n",
    "\n",
    "    # This should hold true for trust to be established\n",
    "    if key1 == key2:\n",
    "\n",
    "        # User 1 - Encrypt and send message to user 2\n",
    "        data1_in = \"Hello user two, this is user one.\" # Secret message\n",
    "        data_encrypted1 = encrypt_string(data1_in, key1) # Encrypts message using key\n",
    "        data1 = {\"modulo\": p, \"public key of sender\": r1, \"data\": data_encrypted1} # Sets up data packet to send\n",
    "        print(f\"Sending user 2 the encrypted data of user 1:\\n{data1}\\n\")\n",
    "\n",
    "        # User 2 - Recieves the message from user 1 and decrypts it\n",
    "        data_in = data1\n",
    "        p_in = data_in[\"modulo\"]\n",
    "        r_in = data_in[\"public key of sender\"]\n",
    "        data_rec2 = data_in[\"data\"]\n",
    "        print(f\"Decrypting User 1's message:\\n{decrypt_string(data_rec2, decode_public_key(r_in, a2, p_in))}\\n\")\n",
    "\n",
    "    else:\n",
    "        print(\"Incorrect keys.\")"
   ]
  },
  {
   "cell_type": "code",
   "execution_count": 7,
   "id": "dca0c2c7-55a0-4cfc-bd1e-b82e935d59b5",
   "metadata": {},
   "outputs": [
    {
     "name": "stdout",
     "output_type": "stream",
     "text": [
      "The modulo is 2069 and base is 569 and made public to all users.\n",
      "\n",
      "User 1 and User 2 determine their own secret key and use it to generate their public key, which they distribute to eachother.\n",
      "\n",
      "Using eachothers public key, the modulo and their own private key, each user generates the encryption key. These end up being the same as per the maths.\n",
      "\n",
      "Sending user 2 the encrypted data of user 1:\n",
      "{'modulo': 2069, 'public key of sender': 589, 'data': 229539938659662985214594372945294213495796177143213479244358397201358397214594372945294207970858148106}\n",
      "\n",
      "Decrypting User 1's message:\n",
      "Hello user two, this is user one.\n",
      "\n"
     ]
    }
   ],
   "source": [
    "main()"
   ]
  },
  {
   "cell_type": "code",
   "execution_count": null,
   "id": "d09191d7",
   "metadata": {},
   "outputs": [],
   "source": []
  }
 ],
 "metadata": {
  "kernelspec": {
   "display_name": "Python 3 (ipykernel)",
   "language": "python",
   "name": "python3"
  },
  "language_info": {
   "codemirror_mode": {
    "name": "ipython",
    "version": 3
   },
   "file_extension": ".py",
   "mimetype": "text/x-python",
   "name": "python",
   "nbconvert_exporter": "python",
   "pygments_lexer": "ipython3",
   "version": "3.10.4"
  }
 },
 "nbformat": 4,
 "nbformat_minor": 5
}
